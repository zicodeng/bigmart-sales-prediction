{
 "cells": [
  {
   "cell_type": "code",
   "execution_count": 2,
   "metadata": {},
   "outputs": [],
   "source": [
    "%matplotlib inline\n",
    "\n",
    "import pandas as pd\n",
    "import matplotlib.pyplot as plt\n",
    "\n",
    "from sklearn.preprocessing import MinMaxScaler\n",
    "from sklearn.pipeline import make_pipeline\n",
    "\n",
    "import xgboost as xgb\n",
    "import lightgbm as lgb \n",
    "from sklearn import svm\n",
    "from sklearn.tree import DecisionTreeClassifier\n",
    "from sklearn.ensemble import RandomForestClassifier\n",
    "from sklearn.neighbors import KNeighborsClassifier\n",
    "from sklearn.linear_model import LinearRegression\n",
    "\n",
    "from sklearn.model_selection import train_test_split, KFold, cross_val_score, GridSearchCV"
   ]
  },
  {
   "cell_type": "code",
   "execution_count": 3,
   "metadata": {},
   "outputs": [],
   "source": [
    "# Prep data\n",
    "%run 'data-prep.ipynb'"
   ]
  },
  {
   "cell_type": "code",
   "execution_count": 4,
   "metadata": {},
   "outputs": [
    {
     "name": "stdout",
     "output_type": "stream",
     "text": [
      "(8523, 36)\n",
      "(8523,)\n",
      "(5681, 36)\n"
     ]
    }
   ],
   "source": [
    "print(train_features.shape)\n",
    "print(train_outcome.shape)\n",
    "print(test_features.shape)"
   ]
  },
  {
   "cell_type": "markdown",
   "metadata": {},
   "source": [
    "# Model Training"
   ]
  },
  {
   "cell_type": "code",
   "execution_count": 7,
   "metadata": {},
   "outputs": [
    {
     "name": "stdout",
     "output_type": "stream",
     "text": [
      "(8523, 34)\n",
      "(5681, 34)\n"
     ]
    }
   ],
   "source": [
    "# Below are just identifiers which we dont want to fit.\n",
    "IDcols = ['Item_Identifier', 'Outlet_Identifier']\n",
    "\n",
    "train_predictors = train_features.set_index(IDcols)\n",
    "test_predictors = test_features.set_index(IDcols)\n",
    "\n",
    "print(train_predictors.shape)\n",
    "print(test_predictors.shape)"
   ]
  },
  {
   "cell_type": "code",
   "execution_count": 9,
   "metadata": {},
   "outputs": [],
   "source": [
    "def train_model(clf, param_grid, train_predictors, train_outcome):  \n",
    "    pipe = make_pipeline(MinMaxScaler(), clf)\n",
    "    \n",
    "    grid_search = GridSearchCV(\n",
    "        pipe,\n",
    "        param_grid,\n",
    "        n_jobs=-1\n",
    "    )\n",
    "    grid_search.fit(train_predictors, train_outcome.round())\n",
    "    \n",
    "    print('BEST SCORE', grid_search.best_score_)\n",
    "    print('BEST PARAM', grid_search.best_params_)\n",
    "    \n",
    "    return grid_search.best_estimator_"
   ]
  },
  {
   "cell_type": "markdown",
   "metadata": {},
   "source": [
    "## XGBoost"
   ]
  },
  {
   "cell_type": "markdown",
   "metadata": {},
   "source": [
    "Gradient boosting algorithms surprisingly did very poor job when there are not many features"
   ]
  },
  {
   "cell_type": "code",
   "execution_count": 72,
   "metadata": {},
   "outputs": [],
   "source": [
    "xgb_param_grid = {}\n",
    "# xgb_param_grid = {'xgbclassifier__n_estimators': np.arange(150, 200)}\n",
    "\n",
    "xgb_model = train_model(\n",
    "    xgb.XGBClassifier(),\n",
    "    xgb_param_grid,\n",
    "    train_predictors, \n",
    "    train_outcome\n",
    ")"
   ]
  },
  {
   "cell_type": "markdown",
   "metadata": {},
   "source": [
    "## Random Forest"
   ]
  },
  {
   "cell_type": "code",
   "execution_count": 94,
   "metadata": {},
   "outputs": [
    {
     "name": "stderr",
     "output_type": "stream",
     "text": [
      "/usr/local/lib/python3.6/site-packages/sklearn/model_selection/_split.py:605: Warning: The least populated class in y has only 1 members, which is too few. The minimum number of members in any class cannot be less than n_splits=3.\n",
      "  % (min_groups, self.n_splits)), Warning)\n"
     ]
    },
    {
     "name": "stdout",
     "output_type": "stream",
     "text": [
      "BEST SCORE 0.005162501466619735\n",
      "BEST PARAM {}\n"
     ]
    }
   ],
   "source": [
    "rf_param_grid = {}\n",
    "\n",
    "rf_model = train_model(\n",
    "    RandomForestClassifier(),\n",
    "    rf_param_grid,\n",
    "    train_predictors, \n",
    "    train_outcome\n",
    ")"
   ]
  },
  {
   "cell_type": "markdown",
   "metadata": {},
   "source": [
    "## Decision Tree"
   ]
  },
  {
   "cell_type": "markdown",
   "metadata": {},
   "source": [
    "So far, this model gives us the best score: **1426**"
   ]
  },
  {
   "cell_type": "code",
   "execution_count": 96,
   "metadata": {},
   "outputs": [
    {
     "name": "stderr",
     "output_type": "stream",
     "text": [
      "/usr/local/lib/python3.6/site-packages/sklearn/model_selection/_split.py:605: Warning: The least populated class in y has only 1 members, which is too few. The minimum number of members in any class cannot be less than n_splits=3.\n",
      "  % (min_groups, self.n_splits)), Warning)\n"
     ]
    },
    {
     "name": "stdout",
     "output_type": "stream",
     "text": [
      "BEST SCORE 0.016543470608940514\n",
      "BEST PARAM {}\n"
     ]
    }
   ],
   "source": [
    "# dt_param_grid = {'decisiontreeclassifier__max_depth': np.arange(6, 10)}\n",
    "# dt_param_grid = {'decisiontreeclassifier__min_samples_split': np.arange(2, 4)}\n",
    "# dt_param_grid = {'decisiontreeclassifier__min_samples_leaf': np.arange(1, 4)}\n",
    "# dt_param_grid = {'decisiontreeclassifier__max_leaf_nodes': np.arange(3, 4)}\n",
    "dt_param_grid = {}\n",
    "\n",
    "dt_model = train_model(\n",
    "    DecisionTreeClassifier(max_depth=9, min_samples_split=2, min_samples_leaf=3, criterion=\"entropy\"),\n",
    "    dt_param_grid,\n",
    "    train_predictors, \n",
    "    train_outcome\n",
    ")"
   ]
  },
  {
   "cell_type": "markdown",
   "metadata": {},
   "source": [
    "## K-Nearest Neighbor"
   ]
  },
  {
   "cell_type": "code",
   "execution_count": 100,
   "metadata": {
    "scrolled": true
   },
   "outputs": [
    {
     "name": "stderr",
     "output_type": "stream",
     "text": [
      "/usr/local/lib/python3.6/site-packages/sklearn/model_selection/_split.py:605: Warning: The least populated class in y has only 1 members, which is too few. The minimum number of members in any class cannot be less than n_splits=3.\n",
      "  % (min_groups, self.n_splits)), Warning)\n"
     ]
    },
    {
     "name": "stdout",
     "output_type": "stream",
     "text": [
      "BEST SCORE 0.0021119324181626186\n",
      "BEST PARAM {}\n"
     ]
    }
   ],
   "source": [
    "knn_param_grid = {}\n",
    "\n",
    "knn_model = train_model(\n",
    "    KNeighborsClassifier(n_jobs=-1),\n",
    "    knn_param_grid,\n",
    "    train_predictors, \n",
    "    train_outcome\n",
    ")"
   ]
  },
  {
   "cell_type": "markdown",
   "metadata": {},
   "source": [
    "## Light GBM"
   ]
  },
  {
   "cell_type": "code",
   "execution_count": null,
   "metadata": {},
   "outputs": [],
   "source": [
    "lgbm_param_grid = {}\n",
    "\n",
    "lgbm_model = train_model(\n",
    "    lgb.LGBMClassifier(),\n",
    "    lgbm_param_grid,\n",
    "    train_predictors, \n",
    "    train_outcome\n",
    ")"
   ]
  },
  {
   "cell_type": "markdown",
   "metadata": {},
   "source": [
    "## SVM"
   ]
  },
  {
   "cell_type": "code",
   "execution_count": 5,
   "metadata": {},
   "outputs": [],
   "source": [
    "svm_param_grid = {}\n",
    "\n",
    "lgbm_model = train_model(\n",
    "    svm.SVC(),\n",
    "    svm_param_grid,\n",
    "    train_predictors, \n",
    "    train_outcome\n",
    ")"
   ]
  },
  {
   "cell_type": "markdown",
   "metadata": {},
   "source": [
    "## Linear Regression"
   ]
  },
  {
   "cell_type": "code",
   "execution_count": 11,
   "metadata": {},
   "outputs": [
    {
     "name": "stderr",
     "output_type": "stream",
     "text": [
      "/usr/local/lib/python3.6/site-packages/scipy/linalg/basic.py:1226: RuntimeWarning: internal gelsd driver lwork query error, required iwork dimension not returned. This is likely the result of LAPACK bug 0038, fixed in LAPACK 3.2.2 (released July 21, 2010). Falling back to 'gelss' driver.\n",
      "  warnings.warn(mesg, RuntimeWarning)\n",
      "/usr/local/lib/python3.6/site-packages/scipy/linalg/basic.py:1226: RuntimeWarning: internal gelsd driver lwork query error, required iwork dimension not returned. This is likely the result of LAPACK bug 0038, fixed in LAPACK 3.2.2 (released July 21, 2010). Falling back to 'gelss' driver.\n",
      "  warnings.warn(mesg, RuntimeWarning)\n",
      "/usr/local/lib/python3.6/site-packages/scipy/linalg/basic.py:1226: RuntimeWarning: internal gelsd driver lwork query error, required iwork dimension not returned. This is likely the result of LAPACK bug 0038, fixed in LAPACK 3.2.2 (released July 21, 2010). Falling back to 'gelss' driver.\n",
      "  warnings.warn(mesg, RuntimeWarning)\n"
     ]
    },
    {
     "name": "stdout",
     "output_type": "stream",
     "text": [
      "BEST SCORE 0.5603016618806848\n",
      "BEST PARAM {}\n"
     ]
    },
    {
     "name": "stderr",
     "output_type": "stream",
     "text": [
      "/usr/local/lib/python3.6/site-packages/scipy/linalg/basic.py:1226: RuntimeWarning: internal gelsd driver lwork query error, required iwork dimension not returned. This is likely the result of LAPACK bug 0038, fixed in LAPACK 3.2.2 (released July 21, 2010). Falling back to 'gelss' driver.\n",
      "  warnings.warn(mesg, RuntimeWarning)\n"
     ]
    }
   ],
   "source": [
    "lr_param_grid = {}\n",
    "\n",
    "lr_model = train_model(\n",
    "    LinearRegression(),\n",
    "    lr_param_grid,\n",
    "    train_predictors, \n",
    "    train_outcome\n",
    ")"
   ]
  },
  {
   "cell_type": "markdown",
   "metadata": {},
   "source": [
    "# Submission"
   ]
  },
  {
   "cell_type": "code",
   "execution_count": 13,
   "metadata": {},
   "outputs": [],
   "source": [
    "def submit(test_predictors, model, filename):\n",
    "    preds = model.predict(test_predictors)\n",
    "    \n",
    "    test_predictors_copy = test_predictors.copy()\n",
    "    test_predictors_copy['Item_Outlet_Sales'] = preds\n",
    "    \n",
    "    submission = test_predictors_copy['Item_Outlet_Sales']\n",
    "\n",
    "    filename = 'submission-' + filename + '.csv'\n",
    "    submission.to_csv(filename, header=True)"
   ]
  },
  {
   "cell_type": "code",
   "execution_count": null,
   "metadata": {},
   "outputs": [],
   "source": [
    "# XGBoost Submission\n",
    "submit(test_features, test_predictors, xgb_model, 'xgboost')"
   ]
  },
  {
   "cell_type": "code",
   "execution_count": 46,
   "metadata": {},
   "outputs": [],
   "source": [
    "# Random Forest Submission\n",
    "submit(test_predictors, rf_model, 'random-forest')"
   ]
  },
  {
   "cell_type": "code",
   "execution_count": 79,
   "metadata": {},
   "outputs": [],
   "source": [
    "# Decision Tree\n",
    "submit(test_predictors, dt_model, 'decision-tree')"
   ]
  },
  {
   "cell_type": "code",
   "execution_count": 15,
   "metadata": {},
   "outputs": [],
   "source": [
    "# KNN\n",
    "submit(test_predictors, knn_model, 'knn')"
   ]
  },
  {
   "cell_type": "code",
   "execution_count": 16,
   "metadata": {},
   "outputs": [],
   "source": [
    "# Linear Regression\n",
    "submit(test_predictors, lr_model, 'linear-regression')"
   ]
  }
 ],
 "metadata": {
  "kernelspec": {
   "display_name": "Python 3",
   "language": "python",
   "name": "python3"
  },
  "language_info": {
   "codemirror_mode": {
    "name": "ipython",
    "version": 3
   },
   "file_extension": ".py",
   "mimetype": "text/x-python",
   "name": "python",
   "nbconvert_exporter": "python",
   "pygments_lexer": "ipython3",
   "version": "3.6.4"
  }
 },
 "nbformat": 4,
 "nbformat_minor": 2
}
