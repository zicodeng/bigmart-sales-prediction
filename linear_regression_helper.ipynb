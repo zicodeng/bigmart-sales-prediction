{
 "cells": [
  {
   "cell_type": "code",
   "execution_count": 1,
   "metadata": {},
   "outputs": [
    {
     "ename": "NameError",
     "evalue": "name 'pd' is not defined",
     "output_type": "error",
     "traceback": [
      "\u001b[0;31m---------------------------------------------------------------------------\u001b[0m",
      "\u001b[0;31mNameError\u001b[0m                                 Traceback (most recent call last)",
      "\u001b[0;32m<ipython-input-1-3cd744a039f5>\u001b[0m in \u001b[0;36m<module>\u001b[0;34m()\u001b[0m\n\u001b[0;32m----> 1\u001b[0;31m \u001b[0mall_data\u001b[0m \u001b[0;34m=\u001b[0m \u001b[0mpd\u001b[0m\u001b[0;34m.\u001b[0m\u001b[0mread_csv\u001b[0m\u001b[0;34m(\u001b[0m\u001b[0;34m'data/train.csv'\u001b[0m\u001b[0;34m)\u001b[0m\u001b[0;34m\u001b[0m\u001b[0m\n\u001b[0m\u001b[1;32m      2\u001b[0m \u001b[0mdata\u001b[0m \u001b[0;34m=\u001b[0m \u001b[0mall_data\u001b[0m\u001b[0;34m.\u001b[0m\u001b[0mcopy\u001b[0m\u001b[0;34m(\u001b[0m\u001b[0;34m)\u001b[0m\u001b[0;34m\u001b[0m\u001b[0m\n\u001b[1;32m      3\u001b[0m \u001b[0mdata\u001b[0m \u001b[0;34m=\u001b[0m \u001b[0mdata\u001b[0m\u001b[0;34m[\u001b[0m\u001b[0;34m[\u001b[0m\u001b[0;34m'Item_Outlet_Sales'\u001b[0m\u001b[0;34m,\u001b[0m \u001b[0;34m'Item_Visibility'\u001b[0m\u001b[0;34m,\u001b[0m \u001b[0;34m'Outlet_Size'\u001b[0m\u001b[0;34m,\u001b[0m \u001b[0;34m'Outlet_Location_Type'\u001b[0m\u001b[0;34m,\u001b[0m \u001b[0;34m'Outlet_Type'\u001b[0m\u001b[0;34m]\u001b[0m\u001b[0;34m]\u001b[0m\u001b[0;34m\u001b[0m\u001b[0m\n",
      "\u001b[0;31mNameError\u001b[0m: name 'pd' is not defined"
     ]
    }
   ],
   "source": [
    "all_data = pd.read_csv('data/train.csv')\n",
    "data = all_data.copy()\n",
    "data = data[['Item_Outlet_Sales', 'Item_Visibility', 'Outlet_Size', 'Outlet_Location_Type', 'Outlet_Type']]"
   ]
  },
  {
   "cell_type": "code",
   "execution_count": 30,
   "metadata": {
    "collapsed": true
   },
   "outputs": [],
   "source": [
    "def GetHyp1():\n",
    "    hyp1 = data[['Item_Visibility', 'Item_Outlet_Sales']].dropna()\n",
    "#     print(hyp1.head())\n",
    "    log_model = smf.ols(formula=\"Item_Outlet_Sales ~ Item_Visibility\", data=hyp1).fit()\n",
    "    print(log_model.summary())\n",
    "    hyp1['log_preds'] = log_model.predict()\n",
    "#     print(hyp1['log_preds'].head())\n",
    "    plt.scatter(hyp1['Item_Visibility'], hyp1['Item_Outlet_Sales'], color='gray', alpha=0.2)\n",
    "    plt.plot(np.unique(hyp1['Item_Visibility']), np.poly1d(np.polyfit(hyp1['Item_Visibility'], hyp1['log_preds'], 1))(np.unique(hyp1['Item_Visibility'])))\n",
    "    plt.title(\"Predicted Sales vs Actual Sales based on Item Visibility\")\n",
    "    plt.xlabel(\"Item Visibility\")\n",
    "    plt.ylabel(\"Sales\")\n",
    "    \n",
    "# p-value < 0.05 => statistically significant\n",
    "# direction => negative    "
   ]
  },
  {
   "cell_type": "code",
   "execution_count": 31,
   "metadata": {
    "collapsed": true
   },
   "outputs": [],
   "source": [
    "# Outlet size and outlet location type affects the profitability of a store Ex: the larger the store, the more profits\n",
    "def GetHyp2():\n",
    "    hyp2 = data[['Outlet_Size', 'Outlet_Location_Type', 'Outlet_Type', 'Item_Outlet_Sales']].dropna()\n",
    "#     print(hyp2.head())\n",
    "    log_model = smf.ols(formula=\"Item_Outlet_Sales ~ Outlet_Size + Outlet_Location_Type + Outlet_Type\", data=hyp2).fit()\n",
    "    print(log_model.summary())\n",
    "    hyp2['log_preds'] = log_model.predict()\n",
    "#     print(hyp2['log_preds'].head())\n",
    "    g = sns.PairGrid(hyp2, x_vars=[\"Outlet_Size\", \"Outlet_Location_Type\", \"Outlet_Type\"], y_vars=[\"Item_Outlet_Sales\"])\n",
    "    g = g.map(sns.stripplot)\n",
    "    \n",
    "# outlet_size\n",
    "# - p-value > 0.05 => not statistically significant\n",
    "# - direction => negative\n",
    "\n",
    "# outlet_location_type \n",
    "# - tier2  p-value < 0.05 => statistically significant\n",
    "# - tier2  direction => positive\n",
    "# - tier3  p-value > 0.05 => not statistically significant\n",
    "# - tier2  direction => negative\n",
    "\n",
    "# outlet_type\n",
    "# - supermarket type1  p-value < 0.05 => statistically significant\n",
    "# - supermarket type1 direction => positive\n",
    "# - supermarket type2 & supermarket type3  p-value > 0.05 => statistically significant\n",
    "# - supermarket type2 & supermarket type3 => positive    "
   ]
  },
  {
   "cell_type": "code",
   "execution_count": 35,
   "metadata": {
    "collapsed": true
   },
   "outputs": [],
   "source": [
    "def GetHyp3():\n",
    "    hyp3 = data[['Outlet_Location_Type', 'Item_Outlet_Sales']].dropna()\n",
    "    # print(hyp3.head())\n",
    "    log_model = smf.ols(formula=\"Item_Outlet_Sales ~ Outlet_Location_Type\", data=hyp3).fit()\n",
    "    print(log_model.summary())\n",
    "    hyp3['log_preds'] = log_model.predict()\n",
    "    # print(hyp3['log_preds'].head())\n",
    "    plt.scatter(hyp3['Outlet_Location_Type'], hyp3['Item_Outlet_Sales'], color='gray', alpha=0.2)\n",
    "    plt.scatter(hyp3['Outlet_Location_Type'], hyp3['log_preds'])\n",
    "    plt.title(\"Predicted Sales vs Actual Sales based on Store Tier\")\n",
    "    plt.xlabel(\"Tier Level\")\n",
    "    plt.ylabel(\"Sales\")"
   ]
  }
 ],
 "metadata": {
  "kernelspec": {
   "display_name": "Python 3",
   "language": "python",
   "name": "python3"
  },
  "language_info": {
   "codemirror_mode": {
    "name": "ipython",
    "version": 3
   },
   "file_extension": ".py",
   "mimetype": "text/x-python",
   "name": "python",
   "nbconvert_exporter": "python",
   "pygments_lexer": "ipython3",
   "version": "3.6.3"
  }
 },
 "nbformat": 4,
 "nbformat_minor": 2
}
